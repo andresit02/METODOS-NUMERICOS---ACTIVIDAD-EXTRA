{
  "nbformat": 4,
  "nbformat_minor": 0,
  "metadata": {
    "colab": {
      "provenance": [],
      "authorship_tag": "ABX9TyPVkklhSeuQ9fESg1BnIYPL",
      "include_colab_link": true
    },
    "kernelspec": {
      "name": "python3",
      "display_name": "Python 3"
    },
    "language_info": {
      "name": "python"
    }
  },
  "cells": [
    {
      "cell_type": "markdown",
      "metadata": {
        "id": "view-in-github",
        "colab_type": "text"
      },
      "source": [
        "<a href=\"https://colab.research.google.com/github/andresit02/METODOS-NUMERICOS---ACTIVIDAD-EXTRA/blob/main/Actividad_Extra.ipynb\" target=\"_parent\"><img src=\"https://colab.research.google.com/assets/colab-badge.svg\" alt=\"Open In Colab\"/></a>"
      ]
    },
    {
      "cell_type": "markdown",
      "source": [
        "**ESCUELA POLITECNICA NACIONAL**\n",
        "\n",
        "**MÉTODOS NUMÉRICOS**\n",
        "\n",
        "**Realizado por: Andres Fernandez**\n"
      ],
      "metadata": {
        "id": "ToTSSzeUkbSu"
      }
    },
    {
      "cell_type": "markdown",
      "source": [
        "##**ACTIVIDAD EXTRA**"
      ],
      "metadata": {
        "id": "1BYRiCj5pzNq"
      }
    },
    {
      "cell_type": "markdown",
      "source": [
        "*Probar diferentes formatters populares en python. Al menos 4*\n",
        "\n",
        "- *Black, autopep8*"
      ],
      "metadata": {
        "id": "cuWCA0YTpv9i"
      }
    },
    {
      "cell_type": "markdown",
      "source": [
        "**- Instalación (black - autopep8 - yapf y flake8) mediante pip**"
      ],
      "metadata": {
        "id": "LZN9KJVVlJoj"
      }
    },
    {
      "cell_type": "code",
      "execution_count": 1,
      "metadata": {
        "colab": {
          "base_uri": "https://localhost:8080/"
        },
        "id": "hRPyGi2LkRbj",
        "outputId": "4bf2a77c-b46c-46f4-c6b6-5474912d9b31"
      },
      "outputs": [
        {
          "output_type": "stream",
          "name": "stdout",
          "text": [
            "Collecting black\n",
            "  Downloading black-24.10.0-cp310-cp310-manylinux_2_17_x86_64.manylinux2014_x86_64.manylinux_2_28_x86_64.whl.metadata (79 kB)\n",
            "\u001b[?25l     \u001b[90m━━━━━━━━━━━━━━━━━━━━━━━━━━━━━━━━━━━━━━━━\u001b[0m \u001b[32m0.0/79.2 kB\u001b[0m \u001b[31m?\u001b[0m eta \u001b[36m-:--:--\u001b[0m\r\u001b[2K     \u001b[90m━━━━━━━━━━━━━━━━━━━━━━━━━━━━━━━━━━━━━━━━\u001b[0m \u001b[32m79.2/79.2 kB\u001b[0m \u001b[31m3.3 MB/s\u001b[0m eta \u001b[36m0:00:00\u001b[0m\n",
            "\u001b[?25hCollecting autopep8\n",
            "  Downloading autopep8-2.3.1-py2.py3-none-any.whl.metadata (16 kB)\n",
            "Collecting yapf\n",
            "  Downloading yapf-0.43.0-py3-none-any.whl.metadata (46 kB)\n",
            "\u001b[2K     \u001b[90m━━━━━━━━━━━━━━━━━━━━━━━━━━━━━━━━━━━━━━━━\u001b[0m \u001b[32m46.8/46.8 kB\u001b[0m \u001b[31m2.4 MB/s\u001b[0m eta \u001b[36m0:00:00\u001b[0m\n",
            "\u001b[?25hCollecting flake8\n",
            "  Downloading flake8-7.1.1-py2.py3-none-any.whl.metadata (3.8 kB)\n",
            "Requirement already satisfied: click>=8.0.0 in /usr/local/lib/python3.10/dist-packages (from black) (8.1.7)\n",
            "Collecting mypy-extensions>=0.4.3 (from black)\n",
            "  Downloading mypy_extensions-1.0.0-py3-none-any.whl.metadata (1.1 kB)\n",
            "Requirement already satisfied: packaging>=22.0 in /usr/local/lib/python3.10/dist-packages (from black) (24.2)\n",
            "Collecting pathspec>=0.9.0 (from black)\n",
            "  Downloading pathspec-0.12.1-py3-none-any.whl.metadata (21 kB)\n",
            "Requirement already satisfied: platformdirs>=2 in /usr/local/lib/python3.10/dist-packages (from black) (4.3.6)\n",
            "Requirement already satisfied: tomli>=1.1.0 in /usr/local/lib/python3.10/dist-packages (from black) (2.1.0)\n",
            "Requirement already satisfied: typing-extensions>=4.0.1 in /usr/local/lib/python3.10/dist-packages (from black) (4.12.2)\n",
            "Collecting pycodestyle>=2.12.0 (from autopep8)\n",
            "  Downloading pycodestyle-2.12.1-py2.py3-none-any.whl.metadata (4.5 kB)\n",
            "Collecting mccabe<0.8.0,>=0.7.0 (from flake8)\n",
            "  Downloading mccabe-0.7.0-py2.py3-none-any.whl.metadata (5.0 kB)\n",
            "Collecting pyflakes<3.3.0,>=3.2.0 (from flake8)\n",
            "  Downloading pyflakes-3.2.0-py2.py3-none-any.whl.metadata (3.5 kB)\n",
            "Downloading black-24.10.0-cp310-cp310-manylinux_2_17_x86_64.manylinux2014_x86_64.manylinux_2_28_x86_64.whl (1.8 MB)\n",
            "\u001b[2K   \u001b[90m━━━━━━━━━━━━━━━━━━━━━━━━━━━━━━━━━━━━━━━━\u001b[0m \u001b[32m1.8/1.8 MB\u001b[0m \u001b[31m65.9 MB/s\u001b[0m eta \u001b[36m0:00:00\u001b[0m\n",
            "\u001b[?25hDownloading autopep8-2.3.1-py2.py3-none-any.whl (45 kB)\n",
            "\u001b[2K   \u001b[90m━━━━━━━━━━━━━━━━━━━━━━━━━━━━━━━━━━━━━━━━\u001b[0m \u001b[32m45.7/45.7 kB\u001b[0m \u001b[31m3.7 MB/s\u001b[0m eta \u001b[36m0:00:00\u001b[0m\n",
            "\u001b[?25hDownloading yapf-0.43.0-py3-none-any.whl (256 kB)\n",
            "\u001b[2K   \u001b[90m━━━━━━━━━━━━━━━━━━━━━━━━━━━━━━━━━━━━━━━━\u001b[0m \u001b[32m256.2/256.2 kB\u001b[0m \u001b[31m21.0 MB/s\u001b[0m eta \u001b[36m0:00:00\u001b[0m\n",
            "\u001b[?25hDownloading flake8-7.1.1-py2.py3-none-any.whl (57 kB)\n",
            "\u001b[2K   \u001b[90m━━━━━━━━━━━━━━━━━━━━━━━━━━━━━━━━━━━━━━━━\u001b[0m \u001b[32m57.7/57.7 kB\u001b[0m \u001b[31m4.8 MB/s\u001b[0m eta \u001b[36m0:00:00\u001b[0m\n",
            "\u001b[?25hDownloading mccabe-0.7.0-py2.py3-none-any.whl (7.3 kB)\n",
            "Downloading mypy_extensions-1.0.0-py3-none-any.whl (4.7 kB)\n",
            "Downloading pathspec-0.12.1-py3-none-any.whl (31 kB)\n",
            "Downloading pycodestyle-2.12.1-py2.py3-none-any.whl (31 kB)\n",
            "Downloading pyflakes-3.2.0-py2.py3-none-any.whl (62 kB)\n",
            "\u001b[2K   \u001b[90m━━━━━━━━━━━━━━━━━━━━━━━━━━━━━━━━━━━━━━━━\u001b[0m \u001b[32m62.7/62.7 kB\u001b[0m \u001b[31m4.4 MB/s\u001b[0m eta \u001b[36m0:00:00\u001b[0m\n",
            "\u001b[?25hInstalling collected packages: yapf, pyflakes, pycodestyle, pathspec, mypy-extensions, mccabe, flake8, black, autopep8\n",
            "Successfully installed autopep8-2.3.1 black-24.10.0 flake8-7.1.1 mccabe-0.7.0 mypy-extensions-1.0.0 pathspec-0.12.1 pycodestyle-2.12.1 pyflakes-3.2.0 yapf-0.43.0\n"
          ]
        }
      ],
      "source": [
        "pip install black autopep8 yapf flake8"
      ]
    },
    {
      "cell_type": "markdown",
      "source": [
        "###**BLACK**"
      ],
      "metadata": {
        "id": "JUswI4oDlgAp"
      }
    },
    {
      "cell_type": "markdown",
      "source": [
        "**Código original (ejemplo1.py) ubicado en la carpeta _home_**"
      ],
      "metadata": {
        "id": "X9dE0R9NpcY5"
      }
    },
    {
      "cell_type": "code",
      "source": [
        "def mi_funcion(a,b,  c):\n",
        "    x = a + b * c\n",
        "    return x\n",
        "\n",
        "\n",
        "def otra_funcion(   x,y,z):\n",
        "    resultado = x * y + z\n",
        "    return  resultado\n",
        "\n",
        "if __name__ == \"__main__\":\n",
        "    print(mi_funcion(1,2,3))\n",
        "    print(otra_funcion(4,5,6))"
      ],
      "metadata": {
        "id": "JYex1lVLsiCL"
      },
      "execution_count": null,
      "outputs": []
    },
    {
      "cell_type": "code",
      "source": [
        "!black /home/ejemplo1.py"
      ],
      "metadata": {
        "colab": {
          "base_uri": "https://localhost:8080/"
        },
        "id": "SIEmzMh6l0oV",
        "outputId": "62d00f30-98a3-4894-a124-aaa952625718"
      },
      "execution_count": 17,
      "outputs": [
        {
          "output_type": "stream",
          "name": "stdout",
          "text": [
            "\u001b[1mAll done! ✨ 🍰 ✨\u001b[0m\n",
            "\u001b[34m1 file \u001b[0mleft unchanged.\n"
          ]
        }
      ]
    },
    {
      "cell_type": "markdown",
      "source": [
        "**Código formateado**"
      ],
      "metadata": {
        "id": "LujpTHd5o5fQ"
      }
    },
    {
      "cell_type": "code",
      "source": [
        "def mi_funcion(a, b, c):\n",
        "    x = a + b * c\n",
        "    return x\n",
        "\n",
        "\n",
        "def otra_funcion(x, y, z):\n",
        "    resultado = x * y + z\n",
        "    return resultado\n",
        "\n",
        "\n",
        "if __name__ == \"__main__\":\n",
        "    print(mi_funcion(1, 2, 3))\n",
        "    print(otra_funcion(4, 5, 6))"
      ],
      "metadata": {
        "id": "XFkrmNZhpAql"
      },
      "execution_count": null,
      "outputs": []
    },
    {
      "cell_type": "markdown",
      "source": [
        "###**AUTOPEP8**"
      ],
      "metadata": {
        "id": "vfnF9qlOqB_q"
      }
    },
    {
      "cell_type": "markdown",
      "source": [
        "**Código original (ejemplo2.py) ubicado en la carpeta _home_**"
      ],
      "metadata": {
        "id": "seycFRs6rAEs"
      }
    },
    {
      "cell_type": "code",
      "source": [
        "def mi_funcion(a,b,  c):\n",
        "    x = a + b * c\n",
        "    return x\n",
        "\n",
        "\n",
        "def otra_funcion(   x,y,z):\n",
        "    resultado = x * y + z\n",
        "    return  resultado\n",
        "\n",
        "if __name__ == \"__main__\":\n",
        "    print(mi_funcion(1,2,3))\n",
        "    print(otra_funcion(4,5,6))"
      ],
      "metadata": {
        "id": "lAKNrURmsqaJ"
      },
      "execution_count": null,
      "outputs": []
    },
    {
      "cell_type": "code",
      "source": [
        "!autopep8 --in-place /home/ejemplo2.py"
      ],
      "metadata": {
        "id": "h_CWH4FoqXWq"
      },
      "execution_count": 19,
      "outputs": []
    },
    {
      "cell_type": "markdown",
      "source": [
        "**Código formateado**"
      ],
      "metadata": {
        "id": "l8aIRnfDssWW"
      }
    },
    {
      "cell_type": "code",
      "source": [
        "def mi_funcion(a, b,  c):\n",
        "    x = a + b * c\n",
        "    return x\n",
        "\n",
        "\n",
        "def otra_funcion(x, y, z):\n",
        "    resultado = x * y + z\n",
        "    return resultado\n",
        "\n",
        "\n",
        "if __name__ == \"__main__\":\n",
        "    print(mi_funcion(1, 2, 3))\n",
        "    print(otra_funcion(4, 5, 6))"
      ],
      "metadata": {
        "id": "ON4zA1tEsy-H"
      },
      "execution_count": null,
      "outputs": []
    },
    {
      "cell_type": "markdown",
      "source": [
        "###**YAPF**"
      ],
      "metadata": {
        "id": "6imsQR_-s6Nl"
      }
    },
    {
      "cell_type": "markdown",
      "source": [
        "**Código original (ejemplo3.py) ubicado en la carpeta home**"
      ],
      "metadata": {
        "id": "RHSTTY0Bs9ue"
      }
    },
    {
      "cell_type": "code",
      "source": [
        "def mi_funcion(a,b,  c):\n",
        "    x = a + b * c\n",
        "    return x\n",
        "\n",
        "\n",
        "def otra_funcion(   x,y,z):\n",
        "    resultado = x * y + z\n",
        "    return  resultado\n",
        "\n",
        "if __name__ == \"__main__\":\n",
        "    print(mi_funcion(1,2,3))\n",
        "    print(otra_funcion(4,5,6))"
      ],
      "metadata": {
        "id": "pDIGuBTztHlz"
      },
      "execution_count": null,
      "outputs": []
    },
    {
      "cell_type": "code",
      "source": [
        "!yapf --style=\"{based_on_style: pep8}\" /home/ejemplo3.py"
      ],
      "metadata": {
        "colab": {
          "base_uri": "https://localhost:8080/"
        },
        "id": "CGr6_4k5tSkb",
        "outputId": "c87c71e2-0cc1-4179-9eb4-4c60ccc88228"
      },
      "execution_count": 20,
      "outputs": [
        {
          "output_type": "stream",
          "name": "stdout",
          "text": [
            "def mi_funcion(a, b, c):\r\n",
            "    x = a + b * c\r\n",
            "    return x\r\n",
            "\r\n",
            "\r\n",
            "def otra_funcion(x, y, z):\r\n",
            "    resultado = x * y + z\r\n",
            "    return resultado\r\n",
            "\r\n",
            "\r\n",
            "if __name__ == \"__main__\":\r\n",
            "    print(mi_funcion(1, 2, 3))\r\n",
            "    print(otra_funcion(4, 5, 6))\r\n"
          ]
        }
      ]
    },
    {
      "cell_type": "markdown",
      "source": [
        "###**FLAKE8**"
      ],
      "metadata": {
        "id": "XCWCx1GPtjI0"
      }
    },
    {
      "cell_type": "markdown",
      "source": [
        "**Código original (ejemplo4.py) ubicado en la carpeta home**"
      ],
      "metadata": {
        "id": "3UrmJ0UXtmCP"
      }
    },
    {
      "cell_type": "code",
      "source": [
        "def mi_funcion(a,b,  c):\n",
        "    x = a + b * c\n",
        "    return x\n",
        "\n",
        "\n",
        "def otra_funcion(   x,y,z):\n",
        "    resultado = x * y + z\n",
        "    return  resultado\n",
        "\n",
        "if __name__ == \"__main__\":\n",
        "    print(mi_funcion(1,2,3))\n",
        "    print(otra_funcion(4,5,6))"
      ],
      "metadata": {
        "id": "BV6o-2tUtsco"
      },
      "execution_count": null,
      "outputs": []
    },
    {
      "cell_type": "code",
      "source": [
        "!flake8 /home/ejemplo4.py --isolated --select=W,E"
      ],
      "metadata": {
        "colab": {
          "base_uri": "https://localhost:8080/"
        },
        "id": "ymsLrMawtzDD",
        "outputId": "b1567f7f-38ab-4faf-98ed-221755ae1da5"
      },
      "execution_count": 31,
      "outputs": [
        {
          "output_type": "stream",
          "name": "stdout",
          "text": [
            "\u001b[1m/home/ejemplo4.py\u001b[m\u001b[36m:\u001b[m1\u001b[36m:\u001b[m17\u001b[36m:\u001b[m \u001b[1m\u001b[31mE231\u001b[m missing whitespace after ','\n",
            "\u001b[1m/home/ejemplo4.py\u001b[m\u001b[36m:\u001b[m1\u001b[36m:\u001b[m20\u001b[36m:\u001b[m \u001b[1m\u001b[31mE241\u001b[m multiple spaces after ','\n",
            "\u001b[1m/home/ejemplo4.py\u001b[m\u001b[36m:\u001b[m1\u001b[36m:\u001b[m25\u001b[36m:\u001b[m \u001b[1m\u001b[31mW291\u001b[m trailing whitespace\n",
            "\u001b[1m/home/ejemplo4.py\u001b[m\u001b[36m:\u001b[m2\u001b[36m:\u001b[m18\u001b[36m:\u001b[m \u001b[1m\u001b[31mW291\u001b[m trailing whitespace\n",
            "\u001b[1m/home/ejemplo4.py\u001b[m\u001b[36m:\u001b[m3\u001b[36m:\u001b[m13\u001b[36m:\u001b[m \u001b[1m\u001b[31mW291\u001b[m trailing whitespace\n",
            "\u001b[1m/home/ejemplo4.py\u001b[m\u001b[36m:\u001b[m6\u001b[36m:\u001b[m18\u001b[36m:\u001b[m \u001b[1m\u001b[31mE201\u001b[m whitespace after '('\n",
            "\u001b[1m/home/ejemplo4.py\u001b[m\u001b[36m:\u001b[m6\u001b[36m:\u001b[m22\u001b[36m:\u001b[m \u001b[1m\u001b[31mE231\u001b[m missing whitespace after ','\n",
            "\u001b[1m/home/ejemplo4.py\u001b[m\u001b[36m:\u001b[m6\u001b[36m:\u001b[m24\u001b[36m:\u001b[m \u001b[1m\u001b[31mE231\u001b[m missing whitespace after ','\n",
            "\u001b[1m/home/ejemplo4.py\u001b[m\u001b[36m:\u001b[m6\u001b[36m:\u001b[m28\u001b[36m:\u001b[m \u001b[1m\u001b[31mW291\u001b[m trailing whitespace\n",
            "\u001b[1m/home/ejemplo4.py\u001b[m\u001b[36m:\u001b[m7\u001b[36m:\u001b[m26\u001b[36m:\u001b[m \u001b[1m\u001b[31mW291\u001b[m trailing whitespace\n",
            "\u001b[1m/home/ejemplo4.py\u001b[m\u001b[36m:\u001b[m8\u001b[36m:\u001b[m11\u001b[36m:\u001b[m \u001b[1m\u001b[31mE271\u001b[m multiple spaces after keyword\n",
            "\u001b[1m/home/ejemplo4.py\u001b[m\u001b[36m:\u001b[m8\u001b[36m:\u001b[m22\u001b[36m:\u001b[m \u001b[1m\u001b[31mW291\u001b[m trailing whitespace\n",
            "\u001b[1m/home/ejemplo4.py\u001b[m\u001b[36m:\u001b[m10\u001b[36m:\u001b[m1\u001b[36m:\u001b[m \u001b[1m\u001b[31mE305\u001b[m expected 2 blank lines after class or function definition, found 1\n",
            "\u001b[1m/home/ejemplo4.py\u001b[m\u001b[36m:\u001b[m10\u001b[36m:\u001b[m27\u001b[36m:\u001b[m \u001b[1m\u001b[31mW291\u001b[m trailing whitespace\n",
            "\u001b[1m/home/ejemplo4.py\u001b[m\u001b[36m:\u001b[m11\u001b[36m:\u001b[m23\u001b[36m:\u001b[m \u001b[1m\u001b[31mE231\u001b[m missing whitespace after ','\n",
            "\u001b[1m/home/ejemplo4.py\u001b[m\u001b[36m:\u001b[m11\u001b[36m:\u001b[m25\u001b[36m:\u001b[m \u001b[1m\u001b[31mE231\u001b[m missing whitespace after ','\n",
            "\u001b[1m/home/ejemplo4.py\u001b[m\u001b[36m:\u001b[m11\u001b[36m:\u001b[m29\u001b[36m:\u001b[m \u001b[1m\u001b[31mW291\u001b[m trailing whitespace\n",
            "\u001b[1m/home/ejemplo4.py\u001b[m\u001b[36m:\u001b[m12\u001b[36m:\u001b[m25\u001b[36m:\u001b[m \u001b[1m\u001b[31mE231\u001b[m missing whitespace after ','\n",
            "\u001b[1m/home/ejemplo4.py\u001b[m\u001b[36m:\u001b[m12\u001b[36m:\u001b[m27\u001b[36m:\u001b[m \u001b[1m\u001b[31mE231\u001b[m missing whitespace after ','\n",
            "\u001b[1m/home/ejemplo4.py\u001b[m\u001b[36m:\u001b[m12\u001b[36m:\u001b[m31\u001b[36m:\u001b[m \u001b[1m\u001b[31mW292\u001b[m no newline at end of file\n"
          ]
        }
      ]
    },
    {
      "cell_type": "markdown",
      "source": [
        "**Para realizar la siguiente ejecución, al código de \"ejemplo4.py\"**\n",
        "\n",
        "**le realice los cambios necesarios para que la siguiente vez que ejecute**\n",
        "\n",
        "**el comando flake8, obtener una salida limpia**"
      ],
      "metadata": {
        "id": "c5_DJN2Tu5bh"
      }
    },
    {
      "cell_type": "code",
      "source": [
        "!flake8 /home/ejemplo4.py --isolated --select=W,E"
      ],
      "metadata": {
        "colab": {
          "base_uri": "https://localhost:8080/"
        },
        "id": "-xRRbd2BwnMf",
        "outputId": "6bfcdcef-9dfd-4498-8605-d5f2ffb9954c"
      },
      "execution_count": 36,
      "outputs": [
        {
          "output_type": "stream",
          "name": "stdout",
          "text": [
            "\u001b[1m/home/ejemplo4.py\u001b[m\u001b[36m:\u001b[m1\u001b[36m:\u001b[m25\u001b[36m:\u001b[m \u001b[1m\u001b[31mW291\u001b[m trailing whitespace\n",
            "\u001b[1m/home/ejemplo4.py\u001b[m\u001b[36m:\u001b[m2\u001b[36m:\u001b[m18\u001b[36m:\u001b[m \u001b[1m\u001b[31mW291\u001b[m trailing whitespace\n",
            "\u001b[1m/home/ejemplo4.py\u001b[m\u001b[36m:\u001b[m3\u001b[36m:\u001b[m13\u001b[36m:\u001b[m \u001b[1m\u001b[31mW291\u001b[m trailing whitespace\n",
            "\u001b[1m/home/ejemplo4.py\u001b[m\u001b[36m:\u001b[m6\u001b[36m:\u001b[m27\u001b[36m:\u001b[m \u001b[1m\u001b[31mW291\u001b[m trailing whitespace\n",
            "\u001b[1m/home/ejemplo4.py\u001b[m\u001b[36m:\u001b[m7\u001b[36m:\u001b[m26\u001b[36m:\u001b[m \u001b[1m\u001b[31mW291\u001b[m trailing whitespace\n",
            "\u001b[1m/home/ejemplo4.py\u001b[m\u001b[36m:\u001b[m8\u001b[36m:\u001b[m21\u001b[36m:\u001b[m \u001b[1m\u001b[31mW291\u001b[m trailing whitespace\n",
            "\u001b[1m/home/ejemplo4.py\u001b[m\u001b[36m:\u001b[m11\u001b[36m:\u001b[m27\u001b[36m:\u001b[m \u001b[1m\u001b[31mW291\u001b[m trailing whitespace\n",
            "\u001b[1m/home/ejemplo4.py\u001b[m\u001b[36m:\u001b[m12\u001b[36m:\u001b[m31\u001b[36m:\u001b[m \u001b[1m\u001b[31mW291\u001b[m trailing whitespace\n",
            "\u001b[1m/home/ejemplo4.py\u001b[m\u001b[36m:\u001b[m13\u001b[36m:\u001b[m33\u001b[36m:\u001b[m \u001b[1m\u001b[31mW292\u001b[m no newline at end of file\n"
          ]
        }
      ]
    },
    {
      "cell_type": "markdown",
      "source": [
        "Y obtenemos una salidad limpia, los errores que se muestran en el problema, NO están en el código en sí, sino en cómo se ha guardado el archivo."
      ],
      "metadata": {
        "id": "NJQE95DMxdyA"
      }
    }
  ]
}